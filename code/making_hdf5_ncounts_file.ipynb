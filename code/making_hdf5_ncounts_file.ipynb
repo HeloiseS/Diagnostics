{
 "cells": [
  {
   "cell_type": "code",
   "execution_count": 22,
   "metadata": {},
   "outputs": [],
   "source": [
    "import numpy as np, os\n",
    "from matplotlib import pyplot as plt\n",
    "import h5py as h5\n",
    "\n",
    "%matplotlib inline"
   ]
  },
  {
   "cell_type": "code",
   "execution_count": 2,
   "metadata": {},
   "outputs": [],
   "source": [
    "data_dir = '../data/BPASS/BPASSv2.2/'"
   ]
  },
  {
   "cell_type": "code",
   "execution_count": 100,
   "metadata": {},
   "outputs": [],
   "source": [
    "modeltypes = ['sin','bin']\n",
    "zs = ['zem5','zem4','z001','z002','z004','z006','z008','z010','z014','z020','z030','z040']\n",
    "cols_dict = {'O':(1,),'Of':(2,),'B':(3,),'A':(4,),'FG':(5,),'K':(6,),'M':(7,),'WNH':(8,),'WN':(9,),'WC':(10,),'RSG':(6,7),'WR':(8,9,10),'BSG':(1,2,3,4),'YSG':(5,)}\n",
    "subtypes = list(cols_dict.keys())\n",
    "Lcuts = [0.0] + [3.0 + 0.1*i for i in range(21)]"
   ]
  },
  {
   "cell_type": "code",
   "execution_count": 86,
   "metadata": {},
   "outputs": [],
   "source": [
    "def data_file_lookup(modeltype, z, subtype, Lcut = 0.0):\n",
    "    \"\"\"\n",
    "    Gets the number counts vs. time arrays from data_dir\n",
    "    \n",
    "    Parameters\n",
    "    ----------\n",
    "    modeltype : str\n",
    "        'sin' or 'bin' indicating 100% singles or 100% binaries\n",
    "    z : str\n",
    "        Metallicity. Formatted like BPASS.\n",
    "    subtype : str\n",
    "        Stellar subtype. Must be in subtypes array\n",
    "    L_cut : float\n",
    "        Lower luminosity cutoff. Can be 0.0 (default), or between 3.0 and 5.0 in \n",
    "        steps of 0.1\n",
    "    \"\"\"\n",
    "    \n",
    "    assert modeltype in modeltypes, \"modeltypes must be 'sin' or 'bin'\"\n",
    "    \n",
    "    assert z in zs, \"z must be a valid BPASS metallicity\"\n",
    "    \n",
    "    assert subtype in subtypes, \"subtype must be a valid subtype in subtypes\"\n",
    "    \n",
    "    assert Lcut in Lcuts, \"L_cut must be 0.0, or between 3.0 and 5.0 in steps of 0.1\"\n",
    "    \n",
    "    filename = data_dir+'ncounts_{0}_{1}_{2}.dat'.format(z, modeltype, int(10*Lcut))\n",
    "    \n",
    "    assert os.path.exists(filename), \"Something is wrong and I can't find the datafile you want\"\n",
    "    \n",
    "    cols = tuple([0]+list(cols_dict[subtype]))\n",
    "    \n",
    "    data = np.genfromtxt(filename, usecols=cols)\n",
    "    \n",
    "    logtime = data[:,0]\n",
    "    ncounts = np.sum(data[:,1:],axis=1)\n",
    "    return logtime,ncounts"
   ]
  },
  {
   "cell_type": "code",
   "execution_count": 118,
   "metadata": {},
   "outputs": [
    {
     "data": {
      "text/plain": [
       "[<matplotlib.lines.Line2D at 0x11e5a1eb8>]"
      ]
     },
     "execution_count": 118,
     "metadata": {},
     "output_type": "execute_result"
    },
    {
     "data": {
      "image/png": "[encoded data removed]",
      "text/plain": [
       "<matplotlib.figure.Figure at 0x11c5cde80>"
      ]
     },
     "metadata": {},
     "output_type": "display_data"
    }
   ],
   "source": [
    "#looks like this works?\n",
    "logtime,ncounts = data_file_lookup('sin','z014', 'O',Lcut=4.9)\n",
    "plt.semilogy(logtime,ncounts)"
   ]
  },
  {
   "cell_type": "code",
   "execution_count": 116,
   "metadata": {},
   "outputs": [],
   "source": [
    "#This cell creates the file from scratch!! Don't run it if you don't need it.\n",
    "ncounts_h5.close()\n",
    "ncounts_h5 = h5.File(\"ncounts.hdf5\", \"w\")\n",
    "ncounts_h5.create_dataset('logtime', data=logtime)\n",
    "ncounts_h5.create_dataset('meta', shape=(0,), dtype=int)\n",
    "ncounts_h5['meta'].attrs.create('modeltypes',[a.encode('utf8') for a in modeltypes])\n",
    "ncounts_h5['meta'].attrs.create('zs',[a.encode('utf8') for a in zs])\n",
    "ncounts_h5['meta'].attrs.create('subtypes',[a.encode('utf8') for a in subtypes])\n",
    "ncounts_h5['meta'].attrs.create('Lcuts',Lcuts)\n",
    "for modtype in modeltypes:\n",
    "    for z in zs:\n",
    "        for subtype in subtypes:\n",
    "            for Lcut in Lcuts:\n",
    "                logtime,ncounts = data_file_lookup(modtype,z,subtype,Lcut=Lcut)\n",
    "                ncounts_h5.create_dataset('{0}/{1}/{2}/{3}/ncounts'.format(modtype,z,subtype,str(Lcut)),data=ncounts)\n",
    "                ncounts_h5['{0}/{1}/{2}/{3}/ncounts'.format(modtype,z,subtype,str(Lcut))].attrs['modeltype'] = modtype\n",
    "                ncounts_h5['{0}/{1}/{2}/{3}/ncounts'.format(modtype,z,subtype,str(Lcut))].attrs['z'] = z\n",
    "                ncounts_h5['{0}/{1}/{2}/{3}/ncounts'.format(modtype,z,subtype,str(Lcut))].attrs['subtype'] = subtype\n",
    "                ncounts_h5['{0}/{1}/{2}/{3}/ncounts'.format(modtype,z,subtype,str(Lcut))].attrs['Lcut'] = Lcut\n",
    "ncounts_h5.close()"
   ]
  },
  {
   "cell_type": "code",
   "execution_count": null,
   "metadata": {},
   "outputs": [],
   "source": []
  }
 ],
 "metadata": {
  "kernelspec": {
   "display_name": "Python [default]",
   "language": "python",
   "name": "python3"
  },
  "language_info": {
   "codemirror_mode": {
    "name": "ipython",
    "version": 3
   },
   "file_extension": ".py",
   "mimetype": "text/x-python",
   "name": "python",
   "nbconvert_exporter": "python",
   "pygments_lexer": "ipython3",
   "version": "3.5.1"
  }
 },
 "nbformat": 4,
 "nbformat_minor": 2
}
