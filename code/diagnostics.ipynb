{
 "cells": [
  {
   "cell_type": "code",
   "execution_count": 1,
   "metadata": {
    "collapsed": true
   },
   "outputs": [],
   "source": [
    "import numpy as np\n",
    "from matplotlib import pyplot as plt, cm as cm\n",
    "\n",
    "%matplotlib inline"
   ]
  },
  {
   "cell_type": "code",
   "execution_count": 2,
   "metadata": {
    "collapsed": true
   },
   "outputs": [],
   "source": [
    "bpass_dir = '../data/BPASS/BPASSv2.1_imf135_300/'\n",
    "logages = np.genfromtxt(bpass_dir+'numbers-bin.z014.dat',unpack=True,usecols=(0))"
   ]
  },
  {
   "cell_type": "code",
   "execution_count": 3,
   "metadata": {
    "collapsed": true
   },
   "outputs": [],
   "source": [
    "cols_dict = {'WR':(8,9,10,18,19,20),'RSG':(6,7),'WC':(10,20),'WN':(9,19),'BSG':(1,2,3,4,11,12,13,14),'YSG':(5,15),'O':(1,11)}"
   ]
  },
  {
   "cell_type": "code",
   "execution_count": 4,
   "metadata": {
    "collapsed": true
   },
   "outputs": [],
   "source": [
    "zs = ['zem5','zem4','z001','z002','z004','z006','z008','z010','z014','z020','z030','z040']\n",
    "z_float = [1.0e-5,1.0e-4,0.001,0.002,0.004,0.006,0.008,0.01,0.014,0.020,0.030,0.040]\n",
    "f_bins = np.linspace(0,1,11)\n",
    "i_younger_than_100Myr = np.where(logages <= 8)\n",
    "ts = logages[i_younger_than_100Myr]"
   ]
  },
  {
   "cell_type": "code",
   "execution_count": 5,
   "metadata": {},
   "outputs": [],
   "source": [
    "bcmap = cm.get_cmap('plasma')\n",
    "tcmap = cm.get_cmap('Blues')\n",
    "zcmap = cm.get_cmap('Reds')"
   ]
  },
  {
   "cell_type": "code",
   "execution_count": 26,
   "metadata": {},
   "outputs": [],
   "source": [
    "def z_to_col(z):\n",
    "    pos_in_arr = np.where(np.array(zs) == z)[0]/len(zs)\n",
    "    return pos_in_arr[0]\n",
    "\n",
    "def z_to_val(z):\n",
    "    pos_in_arr = np.where(np.array(zs) == z)[0][0]\n",
    "    z_f = z_float[pos_in_arr]\n",
    "    return z_f\n",
    "\n",
    "def t_to_col(t):\n",
    "    pos_in_arr = np.where(np.array(ts) == t)[0]/len(ts)\n",
    "    return pos_in_arr[0]"
   ]
  },
  {
   "cell_type": "code",
   "execution_count": 27,
   "metadata": {
    "collapsed": true
   },
   "outputs": [],
   "source": [
    "def get_arrs(subtype,z):\n",
    "    \"\"\"\n",
    "    Given a subtype of star, gets the appropriate summed arrays from the data tables for both\n",
    "    single and binary populations\n",
    "    \n",
    "    Parameters\n",
    "    ----------\n",
    "    subtype : str\n",
    "        Subtype of star. Currently supports WR, RSG, WC, WN, BSG, YSG, O\n",
    "    z : str\n",
    "        Metallicity, in format zXXX. Supports: zem5,zem4,z001,z002,z004,z006,z008,z010,z014,z020,z030,z040\n",
    "    \n",
    "    Returns\n",
    "    -------\n",
    "    b_sum : `~numpy.ndarray`\n",
    "        Sum of all of the subsubtypes that go into the desired subtype for binaries\n",
    "    s_sum : `~numpy.ndarray`\n",
    "        Sum of all of the subsubtypes that go into the desired subtype for singles\n",
    "    \"\"\"\n",
    "    \n",
    "    b_filename = bpass_dir+'numbers-bin.{0}.dat'.format(z)\n",
    "    s_filename = bpass_dir+'numbers.{0}.dat'.format(z)\n",
    "    \n",
    "    cols = cols_dict[subtype]\n",
    "    \n",
    "    b_arrs = np.genfromtxt(b_filename,usecols=cols_dict[subtype],dtype=np.float64)\n",
    "    b_sum = np.sum(b_arrs,axis=1)\n",
    "    \n",
    "    s_arrs = np.genfromtxt(s_filename,usecols=cols_dict[subtype],dtype=np.float64)\n",
    "    s_sum = np.sum(s_arrs,axis=1)\n",
    "    \n",
    "    return b_sum,s_sum"
   ]
  },
  {
   "cell_type": "code",
   "execution_count": 28,
   "metadata": {},
   "outputs": [],
   "source": [
    "def get_ratio_at_parameter(ratio,z,logtime,f_bin):\n",
    "    \"\"\"\n",
    "    Given a ratio, gets the appropriate summed arrays from the data tables for both\n",
    "    single and binary populations, interpolates to the binary fraction, and then the \n",
    "    time\n",
    "    \n",
    "    Parameters\n",
    "    ----------\n",
    "    ratio : str\n",
    "        Name of ratio in the format 'X/Y'. You best hope 'X' and 'Y' are in cols_dict.\n",
    "    z : str\n",
    "        Metallicity, in format zXXX. Supports: zem5,zem4,z001,z002,z004,z006,z008,z010,z014,z020,z030,z040\n",
    "    logtime : float\n",
    "        Log of time in years. Will interpolate.\n",
    "    f_bin : float\n",
    "        Binary fraction, must be in range [0,1]\n",
    "    \n",
    "    Returns\n",
    "    -------\n",
    "    result : float\n",
    "        The ratio at the given binary fraction, and metallicity, and time\n",
    "    \"\"\"\n",
    "    \n",
    "    subtypes = ratio.split('/')\n",
    "    \n",
    "    subtype1_b,subtype1_s = get_arrs(subtypes[0],z)\n",
    "    subtype2_b,subtype2_s = get_arrs(subtypes[1],z)\n",
    "    \n",
    "    subtype1 = f_bin*subtype1_b + (1-f_bin)*subtype1_s\n",
    "    subtype2 = f_bin*subtype2_b + (1-f_bin)*subtype2_s\n",
    "    \n",
    "    subtype1_t = np.interp(logtime,logages,subtype1,left=0,right=0)\n",
    "    subtype2_t = np.interp(logtime,logages,subtype2,left=0,right=0)\n",
    "    \n",
    "    return np.divide(subtype1_t,subtype2_t)"
   ]
  },
  {
   "cell_type": "code",
   "execution_count": 29,
   "metadata": {
    "collapsed": true
   },
   "outputs": [],
   "source": [
    "parname_dict = {'f_bin':f_bins,'z':zs,'logtime':ts}\n",
    "cmap_dict = {'f_bin':bcmap,'z':zcmap,'logtime':tcmap}\n",
    "scale_dict = {'WC/WN':'linear','WR/RSG':'log','BSG/RSG':'log','WR/O':'log','WR/YSG':'log',}"
   ]
  },
  {
   "cell_type": "code",
   "execution_count": 40,
   "metadata": {
    "collapsed": true
   },
   "outputs": [],
   "source": [
    "def plot_ratios(ratio1,ratio2,par3,par3val):\n",
    "    \"\"\"\n",
    "    Plots ratio1 vs. ratio2, at constant par3 for varying [the other parameters]\n",
    "    \"\"\"\n",
    "    \n",
    "    fig,ax = plt.subplots(1,2,figsize=(12,6))\n",
    "    \n",
    "    if par3 == 'logtime':\n",
    "        for f in f_bins:\n",
    "            r1 = [get_ratio_at_parameter(ratio1,f_bin=f,logtime=par3val,z=z_t) for z_t in zs]\n",
    "            r2 = [get_ratio_at_parameter(ratio2,f_bin=f,logtime=par3val,z=z_t) for z_t in zs]\n",
    "            ax[0].loglog(r1,r2,c=bcmap(f))\n",
    "            ax[1].axvline(x=f,c=bcmap(f))\n",
    "        for z_t in zs:\n",
    "            r1 = [get_ratio_at_parameter(ratio1,f_bin=f,logtime=par3val,z=z_t) for f in f_bins]\n",
    "            r2 = [get_ratio_at_parameter(ratio2,f_bin=f,logtime=par3val,z=z_t) for f in f_bins]\n",
    "            ax[0].loglog(r1,r2,c=zcmap(z_to_col(z_t)))\n",
    "            ax[1].axhline(y=np.log10(z_to_val(z_t)),c=zcmap(z_to_col(z_t)))\n",
    "        ax[1].set(xlabel=r'$f_{bin}$',ylabel=r'$\\log{Z}$') \n",
    "        \n",
    "    elif par3 == 'f_bin':\n",
    "        for t in ts:\n",
    "            r1 = [get_ratio_at_parameter(ratio1,f_bin=par3val,logtime=t,z=z_t) for z_t in zs]\n",
    "            r2 = [get_ratio_at_parameter(ratio2,f_bin=par3val,logtime=t,z=z_t) for z_t in zs]\n",
    "            ax[0].loglog(r1,r2,c=tcmap(t_to_col(t)))\n",
    "            ax[1].axvline(t,c=tcmap(t_to_col(t)))\n",
    "        for z_t in zs:\n",
    "            r1 = [get_ratio_at_parameter(ratio1,f_bin=par3val,logtime=par3val,z=z_t) for t in ts]\n",
    "            r2 = [get_ratio_at_parameter(ratio2,f_bin=par3val,logtime=par3val,z=z_t) for t in ts]\n",
    "            ax[0].loglog(r1,r2,c=zcmap(z_to_col(z_t)))\n",
    "            ax[1].axhline(y=np.log10(z_to_val(z_t)),c=zcmap(z_to_col(z_t)))  \n",
    "        ax[1].set(xlabel=r'$\\log{t}$',ylabel=r'$\\log{Z}$') \n",
    "        \n",
    "    elif par3 == 'z':\n",
    "        for t in ts:\n",
    "            r1 = [get_ratio_at_parameter(ratio1,f_bin=f,logtime=t,z=par3val) for f in f_bins]\n",
    "            r2 = [get_ratio_at_parameter(ratio2,f_bin=f,logtime=t,z=par3val) for f in f_bins]\n",
    "            ax[0].loglog(r1,r2,c=tcmap(t_to_col(t)))\n",
    "            ax[1].axvline(t,c=tcmap(t_to_col(t)))\n",
    "        for f in f_bins:\n",
    "            r1 = [get_ratio_at_parameter(ratio1,f_bin=f,logtime=t,z=par3val) for t in ts]\n",
    "            r2 = [get_ratio_at_parameter(ratio2,f_bin=f,logtime=t,z=par3val) for t in ts]\n",
    "            ax[0].loglog(r1,r2,c=bcmap(f))\n",
    "            ax[1].axhline(y=f,c=bcmap(f))\n",
    "        ax[1].set(xlabel=r'$\\log{t}$',ylabel=r'$f_{bin}$') \n",
    "        \n",
    "    ax[0].set(xlabel=r'${}$'.format(ratio1),ylabel=r'${}$'.format(ratio2),title=par3+' = {0}'.format(par3val))"
   ]
  },
  {
   "cell_type": "code",
   "execution_count": 43,
   "metadata": {},
   "outputs": [
    {
     "name": "stderr",
     "output_type": "stream",
     "text": [
      "/Users/carina/anaconda/lib/python3.5/site-packages/ipykernel/__main__.py:35: RuntimeWarning: invalid value encountered in true_divide\n",
      "/Users/carina/anaconda/lib/python3.5/site-packages/ipykernel/__main__.py:35: RuntimeWarning: divide by zero encountered in true_divide\n",
      "/Users/carina/anaconda/lib/python3.5/site-packages/matplotlib/scale.py:111: RuntimeWarning: invalid value encountered in less_equal\n",
      "  out[a <= 0] = -1000\n"
     ]
    },
    {
     "data": {
      "image/png": "[encoded data removed]",
      "text/plain": [
       "<matplotlib.figure.Figure at 0x11b374c88>"
      ]
     },
     "metadata": {},
     "output_type": "display_data"
    }
   ],
   "source": [
    "plot_ratios(ratio1='WC/WN',ratio2='BSG/RSG',par3='logtime',par3val=np.log10(20e6))"
   ]
  },
  {
   "cell_type": "code",
   "execution_count": null,
   "metadata": {},
   "outputs": [],
   "source": [
    "for f in f_bins:\n",
    "    WR_RSG = [get_ratio_at_parameter('WR/RSG',f_bin=f,logtime=np.log10(13e6),z=z_t) for z_t in zs]\n",
    "    WR_O = [get_ratio_at_parameter('WR/O',f_bin=f,logtime=np.log10(13e6),z=z_t) for z_t in zs]\n",
    "    plt.plot(WR_RSG,WR_O,c=bcmap(f))\n",
    "    \n",
    "for z_t in zs:\n",
    "    WR_RSG = [get_ratio_at_parameter('WR/RSG',f_bin=f,logtime=np.log10(13e6),z=z_t) for f in f_bins]\n",
    "    WR_O = [get_ratio_at_parameter('WR/O',f_bin=f,logtime=np.log10(13e6),z=z_t) for f in f_bins]\n",
    "    plt.plot(WR_RSG,WR_O,c=zcmap(z_to_col(z_t)))\n",
    "\n",
    "plt.xscale('log')"
   ]
  },
  {
   "cell_type": "code",
   "execution_count": null,
   "metadata": {
    "collapsed": true
   },
   "outputs": [],
   "source": []
  },
  {
   "cell_type": "code",
   "execution_count": null,
   "metadata": {
    "collapsed": true
   },
   "outputs": [],
   "source": [
    "WR_b = WNH_gb + WN_gb + WC_gb + WNH_lb + WN_lb + WC_lb\n",
    "RSG_b = K_gb + M_gb\n",
    "WR_s = WNH_gs + WN_gs + WC_gs + WNH_ls + WN_ls + WC_ls\n",
    "RSG_s = K_gs + M_gs\n",
    "WC_b = WC_gb + WC_lb\n",
    "WN_b = WN_gb + WN_lb\n",
    "WC_s = WC_gs + WC_ls\n",
    "WN_s = WN_gs + WN_ls\n",
    "BSG_b = O_gb + OF_gb + B_gb + A_gb\n",
    "BSG_s = O_gs + OF_gs + B_gs + A_gs\n",
    "O_b = O_gb + O_lb\n",
    "O_s = O_"
   ]
  },
  {
   "cell_type": "code",
   "execution_count": null,
   "metadata": {
    "collapsed": true
   },
   "outputs": [],
   "source": [
    "WC_b = WC_gb + WC_lb\n",
    "WN_b = WN_gb + WN_lb\n",
    "WC_s = WC_gs + WC_ls\n",
    "WN_s = WN_gs + WN_ls"
   ]
  },
  {
   "cell_type": "code",
   "execution_count": null,
   "metadata": {},
   "outputs": [],
   "source": [
    "grid = []\n",
    "par_grid = []\n",
    "for f_bin in np.linspace(0,1,11):\n",
    "    WR = f_bin*WR_b + (1-f_bin)*WR_s\n",
    "    RSG = f_bin*RSG_b + (1-f_bin)*RSG_s\n",
    "    WC = f_bin*WC_b + (1-f_bin)*WC_s\n",
    "    WN = f_bin*WN_b + (1-f_bin)*WN_s\n",
    "    subgrid = []\n",
    "    subpargrid = []\n",
    "    for i,logt in enumerate(logages[logages<=8]):\n",
    "        WR_RSG = WR[i]/RSG[i]\n",
    "        WC_WN = WC[i]/WN[i]\n",
    "        subgrid.append((WR_RSG,WC_WN))\n",
    "        subpargrid.append((f_bin,logt))\n",
    "    grid.append(subgrid)\n",
    "    par_grid.append(subpargrid)\n",
    "grid = np.array(grid)\n",
    "par_grid = np.array(par_grid)"
   ]
  },
  {
   "cell_type": "code",
   "execution_count": null,
   "metadata": {},
   "outputs": [],
   "source": [
    "\n",
    "plt.plot(np.log10(grid[:,5,0]),grid[:,5,1],c=tcmap(0))\n",
    "plt.plot(np.log10(grid[:,6,0]),grid[:,6,1],c=tcmap(0.25))\n",
    "plt.plot(np.log10(grid[:,7,0]),grid[:,7,1],c=tcmap(0.5))\n",
    "plt.plot(np.log10(grid[:,8,0]),grid[:,8,1],c=tcmap(0.75))\n",
    "plt.plot(np.log10(grid[0,:,0]),grid[0,:,1],c=bcmap(0))\n",
    "plt.plot(np.log10(grid[3,:,0]),grid[3,:,1],c=bcmap(.25))\n",
    "plt.plot(np.log10(grid[6,:,0]),grid[6,:,1],c=bcmap(.5))\n",
    "plt.plot(np.log10(grid[10,:,0]),grid[10,:,1],c=bcmap(0.75))\n",
    "plt.xlabel(r'$\\log{WR/RSG}$')\n",
    "plt.ylabel(r'$WC/WN$')"
   ]
  },
  {
   "cell_type": "code",
   "execution_count": null,
   "metadata": {},
   "outputs": [],
   "source": [
    "fig,ax = plt.subplots(1,3,figsize=(18,6))\n",
    "for f_bin in np.linspace(0,1,11):\n",
    "    WR = f_bin*WR_b + (1-f_bin)*WR_s\n",
    "    RSG = f_bin*RSG_b + (1-f_bin)*RSG_s\n",
    "    ax[0].plot(logages,WR,c=cmap(f_bin),label=f_bin)\n",
    "    ax[1].plot(logages,RSG,c=cmap(f_bin),label=f_bin)\n",
    "    ax[2].plot(logages,WR/RSG,c=cmap(f_bin))\n",
    "    \n",
    "ax[0].set(xlim=(6,8),ylabel='$N_{WR}$')\n",
    "ax[1].set(xlim=(6,8),xlabel='log time',ylabel='$N_{RSG}$')\n",
    "ax[2].set(yscale='log', xlim=(6,8),ylabel='$WR/RSG$')\n",
    "ax[0].legend(title='$f_{bin}$')\n",
    "\n",
    "plt.savefig('../plots/wr_rsg.eps')"
   ]
  },
  {
   "cell_type": "code",
   "execution_count": null,
   "metadata": {
    "collapsed": true
   },
   "outputs": [],
   "source": []
  }
 ],
 "metadata": {
  "kernelspec": {
   "display_name": "Python [conda root]",
   "language": "python",
   "name": "conda-root-py"
  },
  "language_info": {
   "codemirror_mode": {
    "name": "ipython",
    "version": 3
   },
   "file_extension": ".py",
   "mimetype": "text/x-python",
   "name": "python",
   "nbconvert_exporter": "python",
   "pygments_lexer": "ipython3",
   "version": "3.5.1"
  }
 },
 "nbformat": 4,
 "nbformat_minor": 2
}
